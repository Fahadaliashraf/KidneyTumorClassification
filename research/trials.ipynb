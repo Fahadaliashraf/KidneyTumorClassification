{
 "cells": [
  {
   "cell_type": "code",
   "execution_count": 1,
   "metadata": {},
   "outputs": [],
   "source": [
    "# config box\n",
    "d = {\"key\":\"val\", \"key1\":\"val1\"}"
   ]
  },
  {
   "cell_type": "code",
   "execution_count": 2,
   "metadata": {},
   "outputs": [
    {
     "data": {
      "text/plain": [
       "'val1'"
      ]
     },
     "execution_count": 2,
     "metadata": {},
     "output_type": "execute_result"
    }
   ],
   "source": [
    "d['key1']"
   ]
  },
  {
   "cell_type": "code",
   "execution_count": 4,
   "metadata": {},
   "outputs": [
    {
     "name": "stdout",
     "output_type": "stream",
     "text": [
      "val1\n",
      "val1\n",
      "<class 'box.config_box.ConfigBox'>\n",
      "6\n"
     ]
    },
    {
     "name": "stderr",
     "output_type": "stream",
     "text": [
      "Downloading...\n",
      "From (original): https://drive.google.com/uc?/export=download&id=1vlhZ5c7abUKF8xXERIw6m9Te8fW7ohw3\n",
      "From (redirected): https://drive.usercontent.google.com/download?id=1vlhZ5c7abUKF8xXERIw6m9Te8fW7ohw3&confirm=t&uuid=5c33687d-1ba9-4d50-84df-75475fbdfd0f\n",
      "To: c:\\Projects\\KidneyTumorClassification\\research\\kidney-CT-Scan-data.zip\n",
      "100%|██████████| 57.7M/57.7M [00:02<00:00, 25.1MB/s]\n"
     ]
    },
    {
     "data": {
      "text/plain": [
       "'kidney-CT-Scan-data.zip'"
      ]
     },
     "execution_count": 4,
     "metadata": {},
     "output_type": "execute_result"
    }
   ],
   "source": [
    "# Import necessary modules\n",
    "from box import ConfigBox\n",
    "import gdown\n",
    "from ensure import ensure_annotations\n",
    "\n",
    "\n",
    "# Define a dictionary\n",
    "d = {\"key\": \"val\", \"key1\": \"val1\"}\n",
    "\n",
    "# Access dictionary values using both methods\n",
    "print(d['key1'])  # Output: val1\n",
    "# print(d.key1)  # This line would raise an AttributeError\n",
    "\n",
    "# Create a ConfigBox from the dictionary\n",
    "d2 = ConfigBox({\"key\": \"val\", \"key1\": \"val1\"})\n",
    "\n",
    "# Access ConfigBox values\n",
    "print(d2.key1)  # Output: val1\n",
    "print(type(d2))  # Output: box.config_box.ConfigBox\n",
    "\n",
    "# Define a function with annotations\n",
    "@ensure_annotations\n",
    "def get_product(x: int, y: int) -> int:\n",
    "    return x * y\n",
    "\n",
    "# Call the function with valid arguments\n",
    "print(get_product(x=2, y=3))  # Output: 6\n",
    "\n",
    "# Call the function with invalid arguments (will raise an error)\n",
    "# print(get_product(x=2, y=\"3\"))\n",
    "\n",
    "# Download data from Google Drive\n",
    "url = \"https://drive.google.com/file/d/1vlhZ5c7abUKF8xXERIw6m9Te8fW7ohw3/view?usp=sharing\"\n",
    "file_id = url.split(\"/\")[-2]\n",
    "prefix = 'https://drive.google.com/uc?/export=download&id='\n",
    "gdown.download(prefix + file_id, \"kidney-CT-Scan-data.zip\")\n"
   ]
  },
  {
   "cell_type": "code",
   "execution_count": null,
   "metadata": {},
   "outputs": [],
   "source": []
  }
 ],
 "metadata": {
  "kernelspec": {
   "display_name": "Python 3",
   "language": "python",
   "name": "python3"
  },
  "language_info": {
   "codemirror_mode": {
    "name": "ipython",
    "version": 3
   },
   "file_extension": ".py",
   "mimetype": "text/x-python",
   "name": "python",
   "nbconvert_exporter": "python",
   "pygments_lexer": "ipython3",
   "version": "3.12.2"
  }
 },
 "nbformat": 4,
 "nbformat_minor": 2
}
