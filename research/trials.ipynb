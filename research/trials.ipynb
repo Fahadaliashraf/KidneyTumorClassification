{
 "cells": [
  {
   "cell_type": "code",
   "execution_count": 1,
   "metadata": {},
   "outputs": [],
   "source": [
    "# config box\n",
    "d = {\"key\":\"val\", \"key1\":\"val1\"}"
   ]
  },
  {
   "cell_type": "code",
   "execution_count": 2,
   "metadata": {},
   "outputs": [
    {
     "data": {
      "text/plain": [
       "'val1'"
      ]
     },
     "execution_count": 2,
     "metadata": {},
     "output_type": "execute_result"
    }
   ],
   "source": [
    "d['key1']"
   ]
  },
  {
   "cell_type": "code",
   "execution_count": 3,
   "metadata": {},
   "outputs": [
    {
     "name": "stdout",
     "output_type": "stream",
     "text": [
      "val1\n",
      "val1\n",
      "<class 'box.config_box.ConfigBox'>\n",
      "6\n"
     ]
    },
    {
     "name": "stderr",
     "output_type": "stream",
     "text": [
      "Downloading...\n",
      "From (original): https://drive.google.com/uc?/export=download&id=1mT_GFRCVDKeSwjcfRy3kK0J20YkMNzYc\n",
      "From (redirected): https://drive.usercontent.google.com/download?id=1mT_GFRCVDKeSwjcfRy3kK0J20YkMNzYc&confirm=t&uuid=d90037f1-f06d-448f-9ded-cf51f4426638\n",
      "To: c:\\Projects\\KidneyTumorClassification\\research\\kidney tumordatas.zip\n",
      "100%|██████████| 1.63G/1.63G [00:56<00:00, 28.7MB/s]\n"
     ]
    },
    {
     "data": {
      "text/plain": [
       "'kidney tumordatas.zip'"
      ]
     },
     "execution_count": 3,
     "metadata": {},
     "output_type": "execute_result"
    }
   ],
   "source": [
    "# Import necessary modules\n",
    "from box import ConfigBox\n",
    "import gdown\n",
    "from ensure import ensure_annotations\n",
    "\n",
    "\n",
    "# Define a dictionary\n",
    "d = {\"key\": \"val\", \"key1\": \"val1\"}\n",
    "\n",
    "# Access dictionary values using both methods\n",
    "print(d['key1'])  # Output: val1\n",
    "# print(d.key1)  # This line would raise an AttributeError\n",
    "\n",
    "# Create a ConfigBox from the dictionary\n",
    "d2 = ConfigBox({\"key\": \"val\", \"key1\": \"val1\"})\n",
    "\n",
    "# Access ConfigBox values\n",
    "print(d2.key1)  # Output: val1\n",
    "print(type(d2))  # Output: box.config_box.ConfigBox\n",
    "\n",
    "# Define a function with annotations\n",
    "@ensure_annotations\n",
    "def get_product(x: int, y: int) -> int:\n",
    "    return x * y\n",
    "\n",
    "# Call the function with valid arguments\n",
    "print(get_product(x=2, y=3))  # Output: 6\n",
    "\n",
    "# Call the function with invalid arguments (will raise an error)\n",
    "# print(get_product(x=2, y=\"3\"))\n",
    "\n",
    "# Download data from Google Drive\n",
    "url = \"https://drive.google.com/file/d/1mT_GFRCVDKeSwjcfRy3kK0J20YkMNzYc/view?usp=sharing\"\n",
    "file_id = url.split(\"/\")[-2]\n",
    "prefix = 'https://drive.google.com/uc?/export=download&id='\n",
    "gdown.download(prefix + file_id, \"kidney tumordatas.zip\")\n"
   ]
  },
  {
   "cell_type": "code",
   "execution_count": null,
   "metadata": {},
   "outputs": [],
   "source": []
  }
 ],
 "metadata": {
  "kernelspec": {
   "display_name": "Python 3",
   "language": "python",
   "name": "python3"
  },
  "language_info": {
   "codemirror_mode": {
    "name": "ipython",
    "version": 3
   },
   "file_extension": ".py",
   "mimetype": "text/x-python",
   "name": "python",
   "nbconvert_exporter": "python",
   "pygments_lexer": "ipython3",
   "version": "3.12.2"
  }
 },
 "nbformat": 4,
 "nbformat_minor": 2
}
